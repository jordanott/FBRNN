{
 "cells": [
  {
   "cell_type": "code",
   "execution_count": 1,
   "metadata": {},
   "outputs": [],
   "source": [
    "import torch\n",
    "import torch.nn as nn\n",
    "from torch import optim\n",
    "from torch.autograd import Variable\n",
    "import torch.nn.functional as F\n",
    "import torchvision.models as models\n",
    "import torch.autograd as autograd"
   ]
  },
  {
   "cell_type": "markdown",
   "metadata": {},
   "source": [
    "### Loading Data"
   ]
  },
  {
   "cell_type": "code",
   "execution_count": 2,
   "metadata": {},
   "outputs": [],
   "source": [
    "from torchvision import datasets, transforms\n",
    "BATCH_SIZE = 10\n",
    "FEATURE_SIZE = 784\n",
    "\n",
    "train_loader = torch.utils.data.DataLoader(\n",
    "datasets.MNIST('../data', train=True, download=True,\n",
    "               transform=transforms.Compose([\n",
    "                   transforms.ToTensor(),\n",
    "                   transforms.Normalize((0.1307,), (0.3081,))])),batch_size=BATCH_SIZE, shuffle=True)\n",
    "\n",
    "test_loader = torch.utils.data.DataLoader(datasets.MNIST('../data', train=False, transform=transforms.Compose([\n",
    "                   transforms.ToTensor(),\n",
    "                   transforms.Normalize((0.1307,), (0.3081,))\n",
    "               ])),batch_size=BATCH_SIZE, shuffle=True)"
   ]
  },
  {
   "cell_type": "markdown",
   "metadata": {},
   "source": [
    "### Computation within a Layer"
   ]
  },
  {
   "cell_type": "code",
   "execution_count": 3,
   "metadata": {},
   "outputs": [
    {
     "data": {
      "text/plain": [
       "<function print>"
      ]
     },
     "execution_count": 3,
     "metadata": {},
     "output_type": "execute_result"
    }
   ],
   "source": [
    "def compute(direction_params, feed_forward, context=None):\n",
    "    if context is not None:\n",
    "        #print('Direction param',direction_params.shape,'Up',feed_forward.shape,'Context',context.shape)\n",
    "        state = direction_params * context\n",
    "        result = torch.mm(feed_forward,state)\n",
    "    else:\n",
    "        #print(feed_forward.shape,hidden_state.shape)\n",
    "        result = torch.mm(feed_forward,direction_params)\n",
    "    return F.tanh(result)"
   ]
  },
  {
   "cell_type": "markdown",
   "metadata": {},
   "source": [
    "## TODO\n",
    "* Fix how losses are recorded (use dict)\n",
    "* Implement attention over weights with feedback query"
   ]
  },
  {
   "cell_type": "code",
   "execution_count": 26,
   "metadata": {},
   "outputs": [
    {
     "name": "stdout",
     "output_type": "stream",
     "text": [
      "torch.Size([10, 10])\n"
     ]
    },
    {
     "data": {
      "text/plain": [
       "<matplotlib.image.AxesImage at 0x7fc2d554fba8>"
      ]
     },
     "execution_count": 26,
     "metadata": {},
     "output_type": "execute_result"
    },
    {
     "data": {
      "image/png": "[encoded data removed]",
      "text/plain": [
       "<Figure size 432x288 with 1 Axes>"
      ]
     },
     "metadata": {},
     "output_type": "display_data"
    }
   ],
   "source": [
    "b = torch.randn((1,784))\n",
    "Wb = torch.randn((1,10))\n",
    "Qb = torch.matmul(Wb.transpose(0,1), b)\n",
    "\n",
    "W = torch.randn((10,784))\n",
    "scores = F.softmax(torch.matmul(Qb,W.transpose(0,1)),dim=1)\n",
    "print(scores.shape)\n",
    "torch.matmul(scores,W).shape\n",
    "\n",
    "plt.imshow(scores)"
   ]
  },
  {
   "cell_type": "markdown",
   "metadata": {},
   "source": [
    "### Contextual Feedback Network\n",
    "$L^{i}(f^{i-1}_{t}, \\beta^{i+1}_{t-1}; U^{i}, D^{i})$ &rarr; $f^{i}_{t}, \\beta^{i}_{t}$"
   ]
  },
  {
   "cell_type": "code",
   "execution_count": 4,
   "metadata": {},
   "outputs": [],
   "source": [
    "class CFB(nn.Module):\n",
    "    def __init__(self, feature_size, hidden_size=100, dtype=torch.FloatTensor, num_layers=5,weight_transport=False):\n",
    "        super(CFB, self).__init__()\n",
    "        self.weight_transport = weight_transport\n",
    "        self.hidden_size = hidden_size\n",
    "        self.num_layers = num_layers\n",
    "        hidden_size = feature_size\n",
    "        # forward weights: 1,2,3,4,5\n",
    "        self.forward_params = nn.ParameterList([nn.Parameter(torch.randn(feature_size, hidden_size).type(dtype))] +\\\n",
    "                                               [nn.Parameter(torch.randn(hidden_size, hidden_size).type(dtype)) for _ in range(num_layers-1)])\n",
    "        if weight_transport: # using same weights for forward and backward pass\n",
    "            self.backward_params = self.forward_params\n",
    "        else:\n",
    "            # backward weights: 1,2,3,4,5\n",
    "            self.backward_params = nn.ParameterList([nn.Parameter(torch.randn(feature_size, feature_size).type(dtype))] +\\\n",
    "                                        [nn.Parameter(torch.randn(hidden_size, hidden_size).type(dtype)) for _ in range(num_layers-1)])\n",
    "        \n",
    "        self.loss_store = None\n",
    "        for p in self.parameters():\n",
    "            if p.dim() > 1:\n",
    "                nn.init.xavier_uniform_(p)\n",
    "        \n",
    "    def reset(self):\n",
    "        self.current_backward_context = []\n",
    "        self.prior_backward_context = []\n",
    "        self.prior_activities = []\n",
    "        self.current_activities = []\n",
    "        \n",
    "    def init_loss(self,seq_len):\n",
    "        if self.loss_store == None:\n",
    "            self.loss_store = {i:[[] for _ in range(seq_len-1)] for i in range(self.num_layers)}\n",
    "        \n",
    "    def forward(self, feed_forward):\n",
    "        seq_len = feed_forward.shape[0]\n",
    "        self.reset()\n",
    "        self.init_loss(seq_len)\n",
    "        \n",
    "        for seq_idx in range(seq_len):\n",
    "            up = feed_forward[seq_idx].view(-1,784)\n",
    "            \n",
    "            for layer_idx in range(self.num_layers):\n",
    "                U = self.forward_params[layer_idx] # up params\n",
    "                D = self.backward_params[layer_idx] # down params\n",
    "                \n",
    "                if seq_idx != 0 and layer_idx + 1 != self.num_layers: # use backward context\n",
    "                    if layer_idx == 0:\n",
    "                        # fix loss saving\n",
    "                        loss[seq_idx-1].append(F.mse_loss(up,self.prior_backward_context[layer_idx]).item())\n",
    "                        \n",
    "                    error = up - self.prior_backward_context[layer_idx] \n",
    "                    error.sum().backward(retain_graph=True)\n",
    "                    #print(D.grad.shape)\n",
    "                    #update = torch.mm(torch.t(up),error) * self.prior_backward_context[layer_idx]\n",
    "                    #D.data.sub_(1e-3*update.data)\n",
    "                    D.data.sub_(-1e-2*D.grad.data)\n",
    "                    \n",
    "                    down = compute(D, up, self.prior_backward_context[layer_idx+1])\n",
    "                    up = compute(U, up, self.prior_backward_context[layer_idx+1])\n",
    "                else: # no backward context\n",
    "                    down = compute(D, up)\n",
    "                    up = compute(U, up)\n",
    "                \n",
    "                self.current_backward_context.append(down)\n",
    "                self.current_activities.append(up)                  \n",
    "                \n",
    "            self.prior_backward_context = self.current_backward_context\n",
    "            self.prior_activities = self.current_activities\n",
    "            self.current_activities = []\n",
    "            self.current_backward_context = []\n",
    "        return loss"
   ]
  },
  {
   "cell_type": "code",
   "execution_count": 5,
   "metadata": {},
   "outputs": [],
   "source": [
    "model = CFB(FEATURE_SIZE)\n",
    "import numpy as np\n",
    "loss = None\n",
    "for batch_idx, (data, target) in enumerate(train_loader):\n",
    "    input_stimulus = data.view(-1,FEATURE_SIZE)\n",
    "    break\n",
    "for i in range(100):\n",
    "    l = model(input_stimulus)\n",
    "    if loss is None:\n",
    "        loss = l\n",
    "    else:\n",
    "        loss = np.append(loss,l,axis=1)\n",
    "    #print(i)\n",
    "    #print (np.array(loss).shape)"
   ]
  },
  {
   "cell_type": "code",
   "execution_count": 27,
   "metadata": {},
   "outputs": [
    {
     "data": {
      "text/plain": [
       "(9, 100)"
      ]
     },
     "execution_count": 27,
     "metadata": {},
     "output_type": "execute_result"
    }
   ],
   "source": [
    "np.array(loss).shape"
   ]
  },
  {
   "cell_type": "code",
   "execution_count": 32,
   "metadata": {},
   "outputs": [
    {
     "data": {
      "image/png": "[encoded data removed]",
      "text/plain": [
       "<Figure size 432x288 with 1 Axes>"
      ]
     },
     "metadata": {},
     "output_type": "display_data"
    }
   ],
   "source": [
    "%matplotlib inline\n",
    "import matplotlib.pyplot as plt\n",
    "#for i in range(len(loss)):\n",
    "m = np.mean(loss,axis=0)\n",
    "s = np.std(loss,axis=0)\n",
    "plt.plot(m,label='Layer x')\n",
    "plt.fill_between(np.arange(len(m)),m + s, m - s,alpha=.2)\n",
    "plt.legend()\n",
    "plt.show()"
   ]
  },
  {
   "cell_type": "code",
   "execution_count": 7,
   "metadata": {},
   "outputs": [
    {
     "data": {
      "text/plain": [
       "tensor([[ 5.,  3.],\n",
       "        [ 4.,  2.]])"
      ]
     },
     "execution_count": 7,
     "metadata": {},
     "output_type": "execute_result"
    }
   ],
   "source": [
    "x = nn.Parameter(torch.ones(2, 2, requires_grad=True))\n",
    "y = torch.Tensor([[-1,2],[3,-4]])\n",
    "y.requires_grad=True\n",
    "\n",
    "cur = torch.Tensor([[5,4],[3,2]])\n",
    "def f(a,b,cur):\n",
    "    pred = F.relu(a * b)\n",
    "    out = (pred - cur)**2\n",
    "    return out.sum()\n",
    "out = f(x,y,cur)\n",
    "out.backward()\n",
    "y.grad\n",
    "torch.t(cur)"
   ]
  },
  {
   "cell_type": "code",
   "execution_count": 8,
   "metadata": {},
   "outputs": [
    {
     "ename": "AttributeError",
     "evalue": "'list' object has no attribute 'grad_fn'",
     "output_type": "error",
     "traceback": [
      "\u001b[0;31m---------------------------------------------------------------------------\u001b[0m",
      "\u001b[0;31mAttributeError\u001b[0m                            Traceback (most recent call last)",
      "\u001b[0;32m<ipython-input-8-c7eab84ad7ed>\u001b[0m in \u001b[0;36m<module>\u001b[0;34m()\u001b[0m\n\u001b[1;32m      2\u001b[0m \u001b[0;31m# make_dot was moved to https://github.com/szagoruyko/pytorchviz\u001b[0m\u001b[0;34m\u001b[0m\u001b[0;34m\u001b[0m\u001b[0m\n\u001b[1;32m      3\u001b[0m \u001b[0;32mfrom\u001b[0m \u001b[0mtorchviz\u001b[0m \u001b[0;32mimport\u001b[0m \u001b[0mmake_dot\u001b[0m\u001b[0;34m\u001b[0m\u001b[0m\n\u001b[0;32m----> 4\u001b[0;31m \u001b[0md\u001b[0m \u001b[0;34m=\u001b[0m \u001b[0mmake_dot\u001b[0m\u001b[0;34m(\u001b[0m\u001b[0mmodel\u001b[0m\u001b[0;34m(\u001b[0m\u001b[0minput_stimulus\u001b[0m\u001b[0;34m)\u001b[0m\u001b[0;34m,\u001b[0m \u001b[0mparams\u001b[0m\u001b[0;34m=\u001b[0m\u001b[0mdict\u001b[0m\u001b[0;34m(\u001b[0m\u001b[0mmodel\u001b[0m\u001b[0;34m.\u001b[0m\u001b[0mnamed_parameters\u001b[0m\u001b[0;34m(\u001b[0m\u001b[0;34m)\u001b[0m\u001b[0;34m)\u001b[0m\u001b[0;34m)\u001b[0m\u001b[0;34m\u001b[0m\u001b[0m\n\u001b[0m\u001b[1;32m      5\u001b[0m \u001b[0md\u001b[0m\u001b[0;34m.\u001b[0m\u001b[0mrender\u001b[0m\u001b[0;34m(\u001b[0m\u001b[0mfilename\u001b[0m\u001b[0;34m=\u001b[0m\u001b[0;34m'one.png'\u001b[0m\u001b[0;34m)\u001b[0m\u001b[0;34m\u001b[0m\u001b[0m\n",
      "\u001b[0;32m/usr/local/lib/python3.5/dist-packages/torchviz/dot.py\u001b[0m in \u001b[0;36mmake_dot\u001b[0;34m(var, params)\u001b[0m\n\u001b[1;32m     64\u001b[0m             \u001b[0madd_nodes\u001b[0m\u001b[0;34m(\u001b[0m\u001b[0mv\u001b[0m\u001b[0;34m.\u001b[0m\u001b[0mgrad_fn\u001b[0m\u001b[0;34m)\u001b[0m\u001b[0;34m\u001b[0m\u001b[0m\n\u001b[1;32m     65\u001b[0m     \u001b[0;32melse\u001b[0m\u001b[0;34m:\u001b[0m\u001b[0;34m\u001b[0m\u001b[0m\n\u001b[0;32m---> 66\u001b[0;31m         \u001b[0madd_nodes\u001b[0m\u001b[0;34m(\u001b[0m\u001b[0mvar\u001b[0m\u001b[0;34m.\u001b[0m\u001b[0mgrad_fn\u001b[0m\u001b[0;34m)\u001b[0m\u001b[0;34m\u001b[0m\u001b[0m\n\u001b[0m\u001b[1;32m     67\u001b[0m \u001b[0;34m\u001b[0m\u001b[0m\n\u001b[1;32m     68\u001b[0m     \u001b[0mresize_graph\u001b[0m\u001b[0;34m(\u001b[0m\u001b[0mdot\u001b[0m\u001b[0;34m)\u001b[0m\u001b[0;34m\u001b[0m\u001b[0m\n",
      "\u001b[0;31mAttributeError\u001b[0m: 'list' object has no attribute 'grad_fn'"
     ]
    }
   ],
   "source": [
    "%%capture\n",
    "'''from graphviz import Digraph\n",
    "# make_dot was moved to https://github.com/szagoruyko/pytorchviz\n",
    "from torchviz import make_dot\n",
    "d = make_dot(model(input_stimulus), params=dict(model.named_parameters()))\n",
    "d.render(filename='one.png')'''"
   ]
  }
 ],
 "metadata": {
  "kernelspec": {
   "display_name": "Python 3",
   "language": "python",
   "name": "python3"
  },
  "language_info": {
   "codemirror_mode": {
    "name": "ipython",
    "version": 3
   },
   "file_extension": ".py",
   "mimetype": "text/x-python",
   "name": "python",
   "nbconvert_exporter": "python",
   "pygments_lexer": "ipython3",
   "version": "3.5.2"
  }
 },
 "nbformat": 4,
 "nbformat_minor": 2
}
