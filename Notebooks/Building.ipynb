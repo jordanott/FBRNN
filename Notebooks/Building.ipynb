{
 "cells": [
  {
   "cell_type": "code",
   "execution_count": 1,
   "metadata": {},
   "outputs": [],
   "source": [
    "import torch\n",
    "import torch.nn as nn\n",
    "from torch import optim\n",
    "from torch.autograd import Variable\n",
    "import torch.nn.functional as F\n",
    "import torchvision.models as models\n",
    "import torch.autograd as autograd"
   ]
  },
  {
   "cell_type": "markdown",
   "metadata": {},
   "source": [
    "### Loading Data"
   ]
  },
  {
   "cell_type": "code",
   "execution_count": 2,
   "metadata": {},
   "outputs": [],
   "source": [
    "from torchvision import datasets, transforms\n",
    "BATCH_SIZE = 10\n",
    "FEATURE_SIZE = 784\n",
    "\n",
    "train_loader = torch.utils.data.DataLoader(\n",
    "datasets.MNIST('../data', train=True, download=True,\n",
    "               transform=transforms.Compose([\n",
    "                   transforms.ToTensor(),\n",
    "                   transforms.Normalize((0.1307,), (0.3081,))])),batch_size=BATCH_SIZE, shuffle=True)\n",
    "\n",
    "test_loader = torch.utils.data.DataLoader(datasets.MNIST('../data', train=False, transform=transforms.Compose([\n",
    "                   transforms.ToTensor(),\n",
    "                   transforms.Normalize((0.1307,), (0.3081,))\n",
    "               ])),batch_size=BATCH_SIZE, shuffle=True)"
   ]
  },
  {
   "cell_type": "markdown",
   "metadata": {},
   "source": [
    "### Computation within a Layer"
   ]
  },
  {
   "cell_type": "code",
   "execution_count": 27,
   "metadata": {},
   "outputs": [],
   "source": [
    "def compute(direction_params, feed_forward, context=None):\n",
    "    if context is not None:\n",
    "        #print('Direction param',direction_params.shape,'Up',feed_forward.shape,'Context',context.shape)\n",
    "        state = direction_params * context\n",
    "        result = torch.mm(feed_forward,state)\n",
    "    else:\n",
    "        #print(feed_forward.shape,hidden_state.shape)\n",
    "        result = torch.mm(feed_forward,direction_params)\n",
    "    return F.tanh(result)\n",
    "print"
   ]
  },
  {
   "cell_type": "markdown",
   "metadata": {},
   "source": [
    "### Contextual Feedback Network\n",
    "$L^{i}(f^{i-1}_{t}, \\beta^{i+1}_{t-1}; U^{i}, D^{i})$ &rarr; $f^{i}_{t}, \\beta^{i}_{t}$"
   ]
  },
  {
   "cell_type": "code",
   "execution_count": 79,
   "metadata": {},
   "outputs": [],
   "source": [
    "class CF(nn.Module):\n",
    "    def __init__(self, feature_size, hidden_size=100, dtype=torch.FloatTensor, num_layers=5,weight_transport=False):\n",
    "        super(CF, self).__init__()\n",
    "        self.weight_transport = weight_transport\n",
    "        self.hidden_size = hidden_size\n",
    "        self.num_layers = num_layers\n",
    "        hidden_size = feature_size\n",
    "        # forward weights: 1,2,3,4,5\n",
    "        self.forward_params = nn.ParameterList([nn.Parameter(torch.randn(feature_size, hidden_size).type(dtype))] +\\\n",
    "                                               [nn.Parameter(torch.randn(hidden_size, hidden_size).type(dtype)) for _ in range(num_layers-1)])\n",
    "        if weight_transport: # using same weights for forward and backward pass\n",
    "            self.backward_params = self.forward_params\n",
    "        else:\n",
    "            # backward weights: 1,2,3,4,5\n",
    "            self.backward_params = nn.ParameterList([nn.Parameter(torch.randn(feature_size, feature_size).type(dtype))] +\\\n",
    "                                        [nn.Parameter(torch.randn(hidden_size, hidden_size).type(dtype)) for _ in range(num_layers-1)])\n",
    "        \n",
    "        for p in self.parameters():\n",
    "            if p.dim() > 1:\n",
    "                nn.init.xavier_uniform_(p)\n",
    "        \n",
    "    def reset(self):\n",
    "        self.current_backward_context = []\n",
    "        self.prior_backward_context = []\n",
    "        self.prior_activities = []\n",
    "        self.current_activities = []\n",
    "        \n",
    "    def forward(self, feed_forward):\n",
    "        self.reset()\n",
    "        loss = [[] for _ in range(feed_forward.shape[0]-1)]\n",
    "        for seq_idx in range(feed_forward.shape[0]):\n",
    "            up = feed_forward[seq_idx].view(-1,784)\n",
    "            \n",
    "            for layer_idx in range(self.num_layers):\n",
    "                U = self.forward_params[layer_idx] # up params\n",
    "                D = self.backward_params[layer_idx] # down params\n",
    "                \n",
    "                if seq_idx != 0 and layer_idx + 1 != self.num_layers: # use backward context\n",
    "                    if layer_idx == 0:\n",
    "                        loss[seq_idx-1].append(F.mse_loss(up,self.prior_backward_context[layer_idx]).item())\n",
    "                        \n",
    "                    error = up - self.prior_backward_context[layer_idx] \n",
    "                    error.sum().backward(retain_graph=True)\n",
    "                    #print(D.grad.shape)\n",
    "                    #update = torch.mm(torch.t(up),error) * self.prior_backward_context[layer_idx]\n",
    "                    #D.data.sub_(1e-3*update.data)\n",
    "                    D.data.sub_(-1e-3*D.grad.data)\n",
    "                    \n",
    "                    down = compute(D, up, self.prior_backward_context[layer_idx+1])\n",
    "                    up = compute(U, up, self.prior_backward_context[layer_idx+1])\n",
    "                else: # no backward context\n",
    "                    down = compute(D, up)\n",
    "                    up = compute(U, up)\n",
    "                \n",
    "                self.current_backward_context.append(down)\n",
    "                self.current_activities.append(up)                  \n",
    "                \n",
    "            self.prior_backward_context = self.current_backward_context\n",
    "            self.prior_activities = self.current_activities\n",
    "            self.current_activities = []\n",
    "            self.current_backward_context = []\n",
    "        return loss"
   ]
  },
  {
   "cell_type": "code",
   "execution_count": 80,
   "metadata": {},
   "outputs": [
    {
     "name": "stdout",
     "output_type": "stream",
     "text": [
      "0\n",
      "1\n",
      "2\n",
      "3\n",
      "4\n",
      "5\n",
      "6\n",
      "7\n",
      "8\n",
      "9\n",
      "10\n",
      "11\n",
      "12\n",
      "13\n",
      "14\n",
      "15\n",
      "16\n",
      "17\n",
      "18\n",
      "19\n",
      "20\n",
      "21\n",
      "22\n",
      "23\n",
      "24\n",
      "25\n",
      "26\n",
      "27\n",
      "28\n",
      "29\n",
      "30\n",
      "31\n",
      "32\n",
      "33\n",
      "34\n",
      "35\n",
      "36\n",
      "37\n",
      "38\n",
      "39\n",
      "40\n",
      "41\n",
      "42\n",
      "43\n",
      "44\n",
      "45\n",
      "46\n",
      "47\n",
      "48\n",
      "49\n",
      "50\n",
      "51\n",
      "52\n",
      "53\n",
      "54\n",
      "55\n",
      "56\n",
      "57\n",
      "58\n",
      "59\n",
      "60\n",
      "61\n",
      "62\n",
      "63\n",
      "64\n",
      "65\n",
      "66\n",
      "67\n",
      "68\n",
      "69\n",
      "70\n",
      "71\n",
      "72\n",
      "73\n",
      "74\n",
      "75\n",
      "76\n",
      "77\n",
      "78\n",
      "79\n",
      "80\n",
      "81\n",
      "82\n",
      "83\n",
      "84\n",
      "85\n",
      "86\n",
      "87\n",
      "88\n",
      "89\n",
      "90\n",
      "91\n",
      "92\n",
      "93\n",
      "94\n",
      "95\n",
      "96\n",
      "97\n",
      "98\n",
      "99\n"
     ]
    }
   ],
   "source": [
    "model = CF(FEATURE_SIZE)\n",
    "import numpy as np\n",
    "loss = None\n",
    "for batch_idx, (data, target) in enumerate(train_loader):\n",
    "    input_stimulus = data.view(-1,FEATURE_SIZE)\n",
    "    break\n",
    "for i in range(100):\n",
    "    l = model(input_stimulus)\n",
    "    if loss is None:\n",
    "        loss = l\n",
    "    else:\n",
    "        loss = np.append(loss,l,axis=1)\n",
    "    print(i)\n",
    "    #print (np.array(loss).shape)"
   ]
  },
  {
   "cell_type": "code",
   "execution_count": 81,
   "metadata": {},
   "outputs": [
    {
     "data": {
      "image/png": "[encoded data removed]",
      "text/plain": [
       "<Figure size 432x288 with 1 Axes>"
      ]
     },
     "metadata": {},
     "output_type": "display_data"
    }
   ],
   "source": [
    "%matplotlib inline\n",
    "import matplotlib.pyplot as plt\n",
    "for i in range(len(loss)):\n",
    "    plt.plot(loss[i])\n",
    "plt.show()"
   ]
  },
  {
   "cell_type": "code",
   "execution_count": 33,
   "metadata": {},
   "outputs": [
    {
     "data": {
      "text/plain": [
       "tensor([[ 5.,  3.],\n",
       "        [ 4.,  2.]])"
      ]
     },
     "execution_count": 33,
     "metadata": {},
     "output_type": "execute_result"
    }
   ],
   "source": [
    "x = nn.Parameter(torch.ones(2, 2, requires_grad=True))\n",
    "y = torch.Tensor([[-1,2],[3,-4]])\n",
    "y.requires_grad=True\n",
    "\n",
    "cur = torch.Tensor([[5,4],[3,2]])\n",
    "def f(a,b,cur):\n",
    "    pred = F.relu(a * b)\n",
    "    out = (pred - cur)**2\n",
    "    return out.sum()\n",
    "out = f(x,y,cur)\n",
    "out.backward()\n",
    "y.grad\n",
    "torch.t(cur)"
   ]
  },
  {
   "cell_type": "code",
   "execution_count": null,
   "metadata": {},
   "outputs": [],
   "source": [
    "from graphviz import Digraph\n",
    "# make_dot was moved to https://github.com/szagoruyko/pytorchviz\n",
    "from torchviz import make_dot\n",
    "d = make_dot(model(input_stimulus), params=dict(model.named_parameters()))\n",
    "d.render(filename='one.png')"
   ]
  }
 ],
 "metadata": {
  "kernelspec": {
   "display_name": "Python 3",
   "language": "python",
   "name": "python3"
  },
  "language_info": {
   "codemirror_mode": {
    "name": "ipython",
    "version": 3
   },
   "file_extension": ".py",
   "mimetype": "text/x-python",
   "name": "python",
   "nbconvert_exporter": "python",
   "pygments_lexer": "ipython3",
   "version": "3.5.2"
  }
 },
 "nbformat": 4,
 "nbformat_minor": 2
}
