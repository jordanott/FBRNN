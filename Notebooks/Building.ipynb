{
 "cells": [
  {
   "cell_type": "code",
   "execution_count": 1,
   "metadata": {},
   "outputs": [],
   "source": [
    "import torch\n",
    "import torch.nn as nn\n",
    "from torch import optim\n",
    "import torch.nn.functional as F\n",
    "import torchvision.models as models"
   ]
  },
  {
   "cell_type": "code",
   "execution_count": 58,
   "metadata": {},
   "outputs": [
    {
     "name": "stdout",
     "output_type": "stream",
     "text": [
      "tensor([[[ 2.,  4.]],\n",
      "\n",
      "        [[ 2.,  4.]]])\n"
     ]
    }
   ],
   "source": [
    "import torch\n",
    "import torch.autograd as autograd\n",
    "import torch.nn as nn\n",
    "\n",
    "class Forward(torch.autograd.Function):\n",
    "    def forward(ctx, hidden_state, feed_forward):\n",
    "        ctx.hidden_state = hidden_state\n",
    "        return 2*feed_forward\n",
    "\n",
    "    def backward(ctx, grad_forward):\n",
    "        print(ctx.hidden_state)\n",
    "        return ctx.hidden_state,grad_forward\n",
    "\n",
    "class Backward(torch.autograd.Function):\n",
    "    def forward(ctx, hidden_state, feed_back):\n",
    "        ctx.hidden_state = hidden_state\n",
    "        return feed_back\n",
    "\n",
    "    def backward(ctx, grad_back):\n",
    "        print(ctx.hidden_state)\n",
    "        return ctx.hidden_state,grad_back\n",
    "\n",
    "class RF(nn.Module):\n",
    "    def __init__(self, hidden_size, feature_size):\n",
    "        super(RF, self).__init__()\n",
    "        self.hidden_size = hidden_size\n",
    "        \n",
    "        self.cell = nn.GRUCell(input_size=feature_size, hidden_size=hidden_size)\n",
    "        \n",
    "    def reset_hidden(self):\n",
    "        self.hidden_state = torch.zeros((self.batch_size, self.hidden_size))\n",
    "        \n",
    "    def forward(self, feed_forward, feed_back):\n",
    "        self.batch_size = feed_forward.size(1)\n",
    "        self.reset_hidden()\n",
    "        new_states = []\n",
    "        for token in feed_forward.split(1):\n",
    "            new_state = self.cell(token.view(1,2), self.hidden_state)\n",
    "        \n",
    "        return Forward()(torch.ones((self.batch_size,self.hidden_size)), feed_forward)\n",
    "\n",
    "mod = RF(10,2)\n",
    "\n",
    "y = torch.tensor([[[1,2]],[[1,2]]],requires_grad=True).type(torch.float) #autograd.Variable(torch.randn(1), requires_grad=True)\n",
    "test_feedback = torch.tensor([[1],[2]]).type(torch.float)\n",
    "z = mod(y,test_feedback)\n",
    "print(z)\n",
    "torch.sum(z[0]).backward()"
   ]
  }
 ],
 "metadata": {
  "kernelspec": {
   "display_name": "Python 3",
   "language": "python",
   "name": "python3"
  },
  "language_info": {
   "codemirror_mode": {
    "name": "ipython",
    "version": 3
   },
   "file_extension": ".py",
   "mimetype": "text/x-python",
   "name": "python",
   "nbconvert_exporter": "python",
   "pygments_lexer": "ipython3",
   "version": "3.6.0"
  }
 },
 "nbformat": 4,
 "nbformat_minor": 2
}
