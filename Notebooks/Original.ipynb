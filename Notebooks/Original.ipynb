{
 "cells": [
  {
   "cell_type": "code",
   "execution_count": 1,
   "metadata": {},
   "outputs": [
    {
     "name": "stderr",
     "output_type": "stream",
     "text": [
      "Using TensorFlow backend.\n"
     ]
    },
    {
     "data": {
      "text/plain": [
       "<torch._C.Generator at 0x109ff3bf0>"
      ]
     },
     "execution_count": 1,
     "metadata": {},
     "output_type": "execute_result"
    }
   ],
   "source": [
    "import torch\n",
    "import torch.autograd as autograd\n",
    "import torch.nn as nn\n",
    "import torch.nn.functional as F\n",
    "import torch.optim as optim\n",
    "from pprint import pprint\n",
    "import pandas as pd\n",
    "import numpy as np\n",
    "import pickle\n",
    "from keras.preprocessing.sequence import pad_sequences\n",
    "torch.manual_seed(1)"
   ]
  },
  {
   "cell_type": "code",
   "execution_count": 2,
   "metadata": {},
   "outputs": [
    {
     "data": {
      "text/plain": [
       "tensor([[ 0,  0,  0,  1],\n",
       "        [ 1,  0,  0,  1],\n",
       "        [ 2,  0,  0,  4],\n",
       "        [ 3,  3,  0,  3],\n",
       "        [ 4,  2,  1,  4],\n",
       "        [ 4,  1,  2,  2]])"
      ]
     },
     "execution_count": 2,
     "metadata": {},
     "output_type": "execute_result"
    }
   ],
   "source": [
    "batch_size = 4\n",
    "sequence_len = 6\n",
    "sample_batch = torch.t(torch.tensor(pad_sequences([[1,2,3,4,4],[3,2,1],[1,2],[1,1,4,3,4,2]], dtype=np.int64)))\n",
    "sample_batch"
   ]
  },
  {
   "cell_type": "code",
   "execution_count": 3,
   "metadata": {},
   "outputs": [
    {
     "data": {
      "text/plain": [
       "Embedding(5, 8)"
      ]
     },
     "execution_count": 3,
     "metadata": {},
     "output_type": "execute_result"
    }
   ],
   "source": [
    "embedding_dim = 8\n",
    "embedding = nn.Embedding(embedding_dim=embedding_dim, num_embeddings=5)\n",
    "embedding"
   ]
  },
  {
   "cell_type": "code",
   "execution_count": 4,
   "metadata": {},
   "outputs": [
    {
     "data": {
      "text/plain": [
       "torch.Size([6, 4, 8])"
      ]
     },
     "execution_count": 4,
     "metadata": {},
     "output_type": "execute_result"
    }
   ],
   "source": [
    "embedded_input = embedding(sample_batch)\n",
    "embedded_input.shape # (sequence, batch, token)"
   ]
  },
  {
   "cell_type": "code",
   "execution_count": 5,
   "metadata": {},
   "outputs": [],
   "source": [
    "hidden_size = 16\n",
    "layer_a_cell = nn.GRUCell(input_size=embedding_dim, hidden_size=hidden_size)\n",
    "layer_b_cell = nn.GRUCell(input_size=hidden_size, hidden_size=hidden_size)"
   ]
  },
  {
   "cell_type": "code",
   "execution_count": 6,
   "metadata": {},
   "outputs": [],
   "source": [
    "tok_1 = embedded_input[0, :, :]\n",
    "tok_2 = embedded_input[1, :, :]"
   ]
  },
  {
   "cell_type": "code",
   "execution_count": 7,
   "metadata": {},
   "outputs": [],
   "source": [
    "ha_0 = torch.zeros((batch_size, hidden_size))\n",
    "hb_0 = torch.zeros((batch_size, hidden_size))\n",
    "ha = layer_a_cell(tok_1, ha_0)\n",
    "hb = layer_b_cell(ha, hb_0)"
   ]
  },
  {
   "cell_type": "code",
   "execution_count": 8,
   "metadata": {},
   "outputs": [
    {
     "data": {
      "text/plain": [
       "torch.Size([4, 32])"
      ]
     },
     "execution_count": 8,
     "metadata": {},
     "output_type": "execute_result"
    }
   ],
   "source": [
    "torch.cat([ha, hb], dim=1).shape"
   ]
  },
  {
   "cell_type": "code",
   "execution_count": 9,
   "metadata": {},
   "outputs": [],
   "source": [
    "class SelfAttention(nn.Module):\n",
    "    \n",
    "    def __init__(self, input_vector_size = 16, hidden_size = 16, input_context_size = None):\n",
    "        super(SelfAttention, self).__init__()\n",
    "        if input_context_size is not None:\n",
    "            self.W_a = torch.randn(input_context_size, hidden_size, requires_grad=True)\n",
    "        else:\n",
    "            self.W_a = None\n",
    "        self.U_a = torch.randn(input_vector_size, hidden_size, requires_grad=True)\n",
    "        self.v_a = torch.randn(1, hidden_size, requires_grad=True)\n",
    "        \n",
    "    def forward(self, vectors, predicate = None):\n",
    "        if self.W_a is None or predicate is None:\n",
    "            pre_activation_energies = F.tanh(vectors @ self.U_a)\n",
    "        else:\n",
    "            pre_activation_energies = F.tanh(predicate @ self.W_a + vectors @ self.U_a)\n",
    "        activation_energies = torch.einsum(\"tbd,ad->tb\", (pre_activation_energies.clone(), self.v_a.clone()))\n",
    "        \n",
    "        return torch.t(activation_energies)\n",
    "\n",
    "    def combine(self, vectors, predicate = None):\n",
    "        activation_energies = torch.t(self(vectors, predicate))\n",
    "        activations = F.softmax(activation_energies, dim=0)\n",
    "        context = torch.einsum(\"tb,tbd->bd\", (activations.clone(), vectors.clone()))\n",
    "        return context"
   ]
  },
  {
   "cell_type": "code",
   "execution_count": 10,
   "metadata": {},
   "outputs": [],
   "source": [
    "#ha_new = ha + hb\n",
    "#composition = nn.Linear(2 * hidden_size, hidden_size); ha_new = composition(torch.cat([ha, hb], dim=1))\n",
    "att_hidden_size=10\n",
    "ha_attention = SelfAttention(input_vector_size=hidden_size, hidden_size=att_hidden_size)\n",
    "ha_new = ha_attention.combine(torch.stack([ha, hb]))\n",
    "ha = layer_a_cell(tok_2, ha_new)\n",
    "hb = layer_b_cell(ha, hb)"
   ]
  },
  {
   "cell_type": "code",
   "execution_count": 11,
   "metadata": {},
   "outputs": [],
   "source": [
    "class FBRNN(nn.Module):\n",
    "    \n",
    "    def __init__(self, embedding_dim, vocab_size, hidden_size, num_layers, attention_hidden_size):\n",
    "        super(FBRNN, self).__init__()\n",
    "        # HyperParameters\n",
    "        self.embedding_dim = embedding_dim\n",
    "        self.vocab_size = vocab_size\n",
    "        self.hidden_size = hidden_size\n",
    "        self.num_layers = num_layers\n",
    "        self.attention_hidden_size = attention_hidden_size\n",
    "        \n",
    "        # Parameters\n",
    "        self.embedding = nn.Embedding(embedding_dim=embedding_dim, num_embeddings=vocab_size)\n",
    "        self.cells = nn.ModuleList([nn.GRUCell(input_size=embedding_dim, hidden_size=hidden_size)] + \n",
    "                                   [nn.GRUCell(input_size=hidden_size, hidden_size=hidden_size) for i in range(num_layers-1)])\n",
    "        self.hidden_attentions = nn.ModuleList([SelfAttention(input_vector_size=hidden_size, hidden_size=attention_hidden_size) for i in range(num_layers)])\n",
    "    \n",
    "    def forward(self, batch):\n",
    "        embedded_input = self.embedding(batch)\n",
    "        batch_size = batch.shape[1]\n",
    "        h_s = [torch.zeros((batch_size, self.hidden_size)) for i in range(self.num_layers)]\n",
    "         \n",
    "        out_vecs = []\n",
    "        for token in embedded_input.split(1):\n",
    "            input_vec = token.squeeze()\n",
    "            # get all outputs (go up)\n",
    "            new_h_s = []\n",
    "            for h, cell in zip(h_s, self.cells):\n",
    "                input_vec = cell(input_vec, h)\n",
    "                new_h_s.append(input_vec)\n",
    "\n",
    "            h_s = []\n",
    "            # compute new hidden states using attention (go right)\n",
    "            for i, att in enumerate(self.hidden_attentions):\n",
    "                h_s.append(att.combine(torch.stack(new_h_s[i:])))\n",
    "            out_vecs.append(h_s[-1])\n",
    "        return out_vecs"
   ]
  },
  {
   "cell_type": "code",
   "execution_count": 12,
   "metadata": {},
   "outputs": [],
   "source": [
    "model = FBRNN(embedding_dim=embedding_dim, vocab_size=5, hidden_size=hidden_size, num_layers=8, attention_hidden_size=att_hidden_size)"
   ]
  },
  {
   "cell_type": "code",
   "execution_count": 13,
   "metadata": {},
   "outputs": [
    {
     "data": {
      "text/plain": [
       "(torch.Size([6, 4, 16]), torch.Size([6, 4]))"
      ]
     },
     "execution_count": 13,
     "metadata": {},
     "output_type": "execute_result"
    }
   ],
   "source": [
    "torch.stack(model(sample_batch)).shape, sample_batch.shape"
   ]
  },
  {
   "cell_type": "code",
   "execution_count": 14,
   "metadata": {},
   "outputs": [
    {
     "ename": "NameError",
     "evalue": "name 'epochs' is not defined",
     "output_type": "error",
     "traceback": [
      "\u001b[0;31m---------------------------------------------------------------------------\u001b[0m",
      "\u001b[0;31mNameError\u001b[0m                                 Traceback (most recent call last)",
      "\u001b[0;32m<ipython-input-14-7f788d4274f4>\u001b[0m in \u001b[0;36m<module>\u001b[0;34m()\u001b[0m\n\u001b[0;32m----> 1\u001b[0;31m \u001b[0;32mfor\u001b[0m \u001b[0mepoch\u001b[0m \u001b[0;32min\u001b[0m \u001b[0mrange\u001b[0m\u001b[0;34m(\u001b[0m\u001b[0mepochs\u001b[0m\u001b[0;34m)\u001b[0m\u001b[0;34m:\u001b[0m\u001b[0;34m\u001b[0m\u001b[0m\n\u001b[0m\u001b[1;32m      2\u001b[0m     \u001b[0;32mfor\u001b[0m \u001b[0mbatch\u001b[0m \u001b[0;32min\u001b[0m \u001b[0mtrain_generator\u001b[0m\u001b[0;34m:\u001b[0m\u001b[0;34m\u001b[0m\u001b[0m\n\u001b[1;32m      3\u001b[0m         \u001b[0mmodel\u001b[0m\u001b[0;34m.\u001b[0m\u001b[0mzero_grad\u001b[0m\u001b[0;34m(\u001b[0m\u001b[0;34m)\u001b[0m\u001b[0;34m\u001b[0m\u001b[0m\n\u001b[1;32m      4\u001b[0m         \u001b[0moutputs\u001b[0m \u001b[0;34m=\u001b[0m \u001b[0mmodel\u001b[0m\u001b[0;34m(\u001b[0m\u001b[0mbatch\u001b[0m\u001b[0;34m)\u001b[0m\u001b[0;34m\u001b[0m\u001b[0m\n\u001b[1;32m      5\u001b[0m         \u001b[0mloss\u001b[0m \u001b[0;34m=\u001b[0m \u001b[0mcriterion\u001b[0m\u001b[0;34m(\u001b[0m\u001b[0moutputs\u001b[0m\u001b[0;34m,\u001b[0m \u001b[0mtargets\u001b[0m\u001b[0;34m)\u001b[0m\u001b[0;34m\u001b[0m\u001b[0m\n",
      "\u001b[0;31mNameError\u001b[0m: name 'epochs' is not defined"
     ]
    }
   ],
   "source": [
    "for epoch in range(epochs):\n",
    "    for batch in train_generator:\n",
    "        model.zero_grad()\n",
    "        outputs = model(batch)\n",
    "        loss = criterion(outputs, targets)\n",
    "        loss.backward()\n",
    "        opt.step()"
   ]
  },
  {
   "cell_type": "code",
   "execution_count": null,
   "metadata": {},
   "outputs": [],
   "source": []
  }
 ],
 "metadata": {
  "kernelspec": {
   "display_name": "Python 3",
   "language": "python",
   "name": "python3"
  },
  "language_info": {
   "codemirror_mode": {
    "name": "ipython",
    "version": 3
   },
   "file_extension": ".py",
   "mimetype": "text/x-python",
   "name": "python",
   "nbconvert_exporter": "python",
   "pygments_lexer": "ipython3",
   "version": "3.6.0"
  }
 },
 "nbformat": 4,
 "nbformat_minor": 2
}
